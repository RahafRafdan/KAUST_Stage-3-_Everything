{
  "nbformat": 4,
  "nbformat_minor": 0,
  "metadata": {
    "colab": {
      "provenance": [],
      "gpuType": "T4"
    },
    "kernelspec": {
      "name": "python3",
      "display_name": "Python 3"
    },
    "language_info": {
      "name": "python"
    },
    "accelerator": "GPU"
  },
  "cells": [
    {
      "cell_type": "code",
      "source": [
        "from IPython.display import clear_output"
      ],
      "metadata": {
        "id": "kJ66nYU3geg0"
      },
      "execution_count": null,
      "outputs": []
    },
    {
      "cell_type": "code",
      "execution_count": null,
      "metadata": {
        "id": "KdHRySBBeh9p"
      },
      "outputs": [],
      "source": [
        "import torch\n",
        "import torch.nn as nn\n",
        "\n",
        "import torchvision\n",
        "import torchvision.transforms as transforms\n",
        "\n",
        "import matplotlib.pyplot as plt\n",
        "import torch\n",
        "import torch.nn as nn\n",
        "import torch.nn.functional as F\n",
        "import torch.optim as optim\n",
        "import numpy as np\n",
        "import matplotlib.pyplot as plt\n",
        "from torchvision import models,transforms\n",
        "from torchvision.utils import make_grid\n",
        "from torchvision.datasets import MNIST\n",
        "from torch.utils.data.sampler import SubsetRandomSampler\n",
        "from torch.utils.tensorboard import SummaryWriter\n",
        "from torchsummary import summary\n",
        "from torch.utils.data import Dataset, DataLoader"
      ]
    },
    {
      "cell_type": "code",
      "source": [
        "transform = transforms.Compose([\n",
        "    transforms.RandomCrop(32, padding=4),\n",
        "    transforms.RandomHorizontalFlip(),\n",
        "    transforms.ToTensor(),\n",
        "    transforms.Normalize((0.5, 0.5, 0.5), (0.5, 0.5, 0.5)),\n",
        "    #transforms.Resize((32,32)) #important in the image data that have different sizes\n",
        "])\n",
        "#split the data\n",
        "train_dataset = torchvision.datasets.CIFAR100(root='./data', train=True, download=True, transform=transform)\n",
        "test_dataset = torchvision.datasets.CIFAR100(root='./data', train=False, download=True, transform=transform)"
      ],
      "metadata": {
        "colab": {
          "base_uri": "https://localhost:8080/"
        },
        "id": "sJpy9STHfKSl",
        "outputId": "56a1fb37-8d68-448d-d3f3-292e889e8fba"
      },
      "execution_count": null,
      "outputs": [
        {
          "output_type": "stream",
          "name": "stdout",
          "text": [
            "Downloading https://www.cs.toronto.edu/~kriz/cifar-100-python.tar.gz to ./data/cifar-100-python.tar.gz\n"
          ]
        },
        {
          "output_type": "stream",
          "name": "stderr",
          "text": [
            "100%|██████████| 169M/169M [01:02<00:00, 2.69MB/s]\n"
          ]
        },
        {
          "output_type": "stream",
          "name": "stdout",
          "text": [
            "Extracting ./data/cifar-100-python.tar.gz to ./data\n",
            "Files already downloaded and verified\n"
          ]
        }
      ]
    },
    {
      "cell_type": "code",
      "source": [
        "print(f'{len(train_dataset)=}')\n",
        "print(f'{len(test_dataset)=}')"
      ],
      "metadata": {
        "colab": {
          "base_uri": "https://localhost:8080/"
        },
        "id": "C6VfNgdRfb4Q",
        "outputId": "0903e42d-461e-438a-d36f-693e7d0a298d"
      },
      "execution_count": null,
      "outputs": [
        {
          "output_type": "stream",
          "name": "stdout",
          "text": [
            "len(train_dataset)=50000\n",
            "len(test_dataset)=10000\n"
          ]
        }
      ]
    },
    {
      "cell_type": "code",
      "source": [
        "img, label = test_dataset[10] #check the image number 10 , you can check anyone in order to check that the sizes are the same\n",
        "print(f'{label=}')\n",
        "transforms.functional.to_pil_image(img) #tensor to PIL then print the PIL, this is how print the shape\n",
        "img.shape"
      ],
      "metadata": {
        "colab": {
          "base_uri": "https://localhost:8080/"
        },
        "id": "c_V0PRIrfx7e",
        "outputId": "5b40008f-87d5-45cb-9122-244de1a41b30"
      },
      "execution_count": null,
      "outputs": [
        {
          "output_type": "stream",
          "name": "stdout",
          "text": [
            "label=71\n"
          ]
        },
        {
          "output_type": "execute_result",
          "data": {
            "text/plain": [
              "torch.Size([3, 32, 32])"
            ]
          },
          "metadata": {},
          "execution_count": 5
        }
      ]
    },
    {
      "cell_type": "markdown",
      "source": [
        "# Tasks\n",
        "\n",
        "1. Train a custom CNN classifier for CIFAR100 dataset.\n",
        "2. Draw a graph to show the drop in losses (train loss and val loss) during the training.\n",
        "2. After training on train data, do validation on test_data and show the overall accuracy of the model.\n",
        "3. Also show label wise performance/accuracy of the model."
      ],
      "metadata": {
        "id": "eVXvOLmegnJM"
      }
    },
    {
      "cell_type": "code",
      "source": [
        "\n",
        "class ImprovedCNN(nn.Module):\n",
        "    def __init__(self):\n",
        "        super(ImprovedCNN, self).__init__()\n",
        "        self.conv1 = nn.Conv2d(3, 64, 3, 1, 1) #32\n",
        "        self.bn1 = nn.BatchNorm2d(64)\n",
        "        self.conv2 = nn.Conv2d(64, 128, 3, 1, 1) #16\n",
        "        self.bn2 = nn.BatchNorm2d(128)\n",
        "        self.conv3 = nn.Conv2d(128, 256, 3, 1, 1) #8\n",
        "        self.bn3 = nn.BatchNorm2d(256)\n",
        "        self.dropout = nn.Dropout(0.5) #not neccessarily\n",
        "        self.fc1 = nn.Linear(256 * 4 * 4, 512) #4 #we use FC layer not as Lab2 because there we didn't want to generate a new image (out_channel*input_size , )\n",
        "        self.fc2 = nn.Linear(512, 100) #100 from CIFAR100, it 100 classes out\n",
        "\n",
        "    def forward(self, x):\n",
        "        x = F.relu(self.bn1(self.conv1(x)))\n",
        "        x = F.max_pool2d(x, 2) #this is reduce the sie after each Conv\n",
        "        x = F.relu(self.bn2(self.conv2(x)))\n",
        "        x = F.max_pool2d(x, 2)\n",
        "        x = F.relu(self.bn3(self.conv3(x)))\n",
        "        x = F.max_pool2d(x, 2)\n",
        "        x = nn.Flatten()(x)\n",
        "        x = self.dropout(x)\n",
        "        x = F.relu(self.fc1(x))\n",
        "        x = self.fc2(x)\n",
        "        return x, None, None #so we can pass it in loss"
      ],
      "metadata": {
        "id": "G9IcJyifaOmr"
      },
      "execution_count": null,
      "outputs": []
    },
    {
      "cell_type": "code",
      "source": [
        "train_loader = DataLoader(train_dataset, batch_size = 64, shuffle=True)\n",
        "test_loader = DataLoader(test_dataset, batch_size = 64, shuffle=False)"
      ],
      "metadata": {
        "id": "CVroYfK-Ud5f"
      },
      "execution_count": null,
      "outputs": []
    },
    {
      "cell_type": "code",
      "source": [],
      "metadata": {
        "id": "mbotGpEPUOLv"
      },
      "execution_count": null,
      "outputs": []
    },
    {
      "cell_type": "code",
      "source": [
        "device = torch.device(\"cuda:0\" if torch.cuda.is_available() else \"cpu\")\n",
        "\n",
        "import matplotlib.pyplot as plt\n",
        "import torch.optim as optim\n",
        "from torch.optim.lr_scheduler import ExponentialLR\n",
        "import torch.nn.functional as F\n",
        "\n",
        "num_epochs = 10\n",
        "net = ImprovedCNN().to(device)\n",
        "\n",
        "# Data to GPU\n",
        "lr = 0.01 # Learning rate for the SGD optimizer.\n",
        "momentum = 0.9\n",
        "train_losses = []\n",
        "val_losses = []\n",
        "opt = optim.SGD(net.parameters(), lr = lr, momentum = momentum,weight_decay=5e-4)\n",
        "sch = ExponentialLR(opt, 0.9, verbose = True)\n",
        "\n",
        "for epoch in range(num_epochs):\n",
        "    net.train()\n",
        "    total_train_loss = 0\n",
        "\n",
        "    for batch in train_loader:\n",
        "        X, y = batch[0].to(device), batch[1].to(device)\n",
        "        yhat = net(X)[0]\n",
        "        loss = F.cross_entropy(yhat, y) # if we dont write this line before return x, None, None, we will got mismatch\n",
        "        opt.zero_grad()\n",
        "        loss.backward()\n",
        "        opt.step()\n",
        "        total_train_loss += loss.item()\n",
        "\n",
        "    avg_train_loss = total_train_loss / len(train_loader)\n",
        "    train_losses.append(avg_train_loss)\n",
        "\n",
        "\n",
        "    net.eval()\n",
        "    total_val_loss = 0\n",
        "    with torch.no_grad():\n",
        "        for X_val, y_val in test_loader:\n",
        "            X_val, y_val = X_val.to(device), y_val.to(device)\n",
        "            yhat_val = net(X_val)[0]\n",
        "            val_loss = F.cross_entropy(yhat_val, y_val)\n",
        "            total_val_loss += val_loss.item()\n",
        "\n",
        "    avg_val_loss = total_val_loss / len(test_loader)\n",
        "    val_losses.append(avg_val_loss)\n",
        "\n",
        "    sch.step()\n",
        "\n",
        "    print(f'Epoch {epoch+1}/{num_epochs}, Train Loss: {avg_train_loss:.4f}, Val Loss: {avg_val_loss:.4f}')\n",
        "\n",
        "plt.figure(figsize=(10, 5))\n",
        "plt.plot(train_losses, label='Training Loss')\n",
        "plt.plot(val_losses, label='Validation Loss')\n",
        "plt.title('Training and Validation Losses')\n",
        "plt.xlabel('Epochs')\n",
        "plt.ylabel('Loss')\n",
        "plt.legend()\n",
        "plt.show()\n"
      ],
      "metadata": {
        "colab": {
          "base_uri": "https://localhost:8080/",
          "height": 711
        },
        "id": "qywLQ-ikxhWl",
        "outputId": "727b88dc-62c1-4c17-ce2d-b8f2e9f3eaf1"
      },
      "execution_count": null,
      "outputs": [
        {
          "output_type": "stream",
          "name": "stderr",
          "text": [
            "/usr/local/lib/python3.11/dist-packages/torch/optim/lr_scheduler.py:62: UserWarning: The verbose parameter is deprecated. Please use get_last_lr() to access the learning rate.\n",
            "  warnings.warn(\n"
          ]
        },
        {
          "output_type": "stream",
          "name": "stdout",
          "text": [
            "Epoch 1/10, Train Loss: 3.6789, Val Loss: 3.2733\n",
            "Epoch 2/10, Train Loss: 3.0679, Val Loss: 2.8988\n",
            "Epoch 3/10, Train Loss: 2.7674, Val Loss: 2.6636\n",
            "Epoch 4/10, Train Loss: 2.5494, Val Loss: 2.4136\n",
            "Epoch 5/10, Train Loss: 2.3964, Val Loss: 2.3665\n",
            "Epoch 6/10, Train Loss: 2.2699, Val Loss: 2.2410\n",
            "Epoch 7/10, Train Loss: 2.1624, Val Loss: 2.1804\n",
            "Epoch 8/10, Train Loss: 2.0776, Val Loss: 2.0352\n",
            "Epoch 9/10, Train Loss: 2.0129, Val Loss: 2.0478\n",
            "Epoch 10/10, Train Loss: 1.9408, Val Loss: 1.9699\n"
          ]
        },
        {
          "output_type": "display_data",
          "data": {
            "text/plain": [
              "<Figure size 1000x500 with 1 Axes>"
            ],
            "image/png": "[encoded data removed]"
          },
          "metadata": {}
        }
      ]
    },
    {
      "cell_type": "code",
      "source": [
        "correct_predictions = 0\n",
        "total_samples = 0\n",
        "\n",
        "with torch.no_grad():\n",
        "    for batch in test_loader:\n",
        "        X_test, y_test = batch[0].to(device), batch[1].to(device)\n",
        "        yhat_test = net(X_test)[0]\n",
        "        _, predicted_labels = torch.max(yhat_test, 1)\n",
        "        correct_predictions += (predicted_labels == y_test).sum().item()\n",
        "        total_samples += y_test.size(0)\n",
        "\n",
        "# Calculate the accuracy\n",
        "accuracy = correct_predictions / total_samples\n",
        "print(f\"Accuracy on the test set: {100 * accuracy:.2f}%\")"
      ],
      "metadata": {
        "id": "GX6VNxFQaPuv",
        "colab": {
          "base_uri": "https://localhost:8080/"
        },
        "outputId": "826b994b-9384-4bd0-8ec0-876a8119a8f3"
      },
      "execution_count": null,
      "outputs": [
        {
          "output_type": "stream",
          "name": "stdout",
          "text": [
            "Accuracy on the test set: 46.94%\n"
          ]
        }
      ]
    },
    {
      "cell_type": "code",
      "source": [
        "from sklearn.metrics import classification_report\n",
        "\n",
        "true_labels = []\n",
        "predictions =[]\n",
        "with torch.no_grad():\n",
        "    for inputs, labels in test_loader:\n",
        "        inputs = inputs.to(device)\n",
        "        labels = labels.to(device)\n",
        "        outputs = net(inputs)[0]\n",
        "        _, predicted = torch.max(outputs, 1)\n",
        "        predictions.extend(predicted.cpu().numpy())\n",
        "        true_labels.extend(labels.cpu().numpy())\n",
        "\n",
        "tt=(classification_report(true_labels, predictions, target_names=train_dataset.classes))\n",
        "print(tt)"
      ],
      "metadata": {
        "id": "s4wNp-y_uCIC",
        "colab": {
          "base_uri": "https://localhost:8080/"
        },
        "outputId": "f0956a8d-6bd6-446d-fb87-50e26f44b35c"
      },
      "execution_count": null,
      "outputs": [
        {
          "output_type": "stream",
          "name": "stdout",
          "text": [
            "               precision    recall  f1-score   support\n",
            "\n",
            "        apple       0.77      0.72      0.75       100\n",
            "aquarium_fish       0.71      0.37      0.49       100\n",
            "         baby       0.39      0.32      0.35       100\n",
            "         bear       0.24      0.27      0.25       100\n",
            "       beaver       0.23      0.34      0.28       100\n",
            "          bed       0.42      0.48      0.45       100\n",
            "          bee       0.52      0.59      0.55       100\n",
            "       beetle       0.43      0.47      0.45       100\n",
            "      bicycle       0.70      0.50      0.58       100\n",
            "       bottle       0.70      0.56      0.62       100\n",
            "         bowl       0.39      0.24      0.30       100\n",
            "          boy       0.38      0.25      0.30       100\n",
            "       bridge       0.68      0.30      0.42       100\n",
            "          bus       0.45      0.26      0.33       100\n",
            "    butterfly       0.41      0.40      0.40       100\n",
            "        camel       0.44      0.20      0.28       100\n",
            "          can       0.50      0.45      0.47       100\n",
            "       castle       0.68      0.67      0.67       100\n",
            "  caterpillar       0.44      0.48      0.46       100\n",
            "       cattle       0.37      0.45      0.41       100\n",
            "        chair       0.95      0.62      0.75       100\n",
            "   chimpanzee       0.43      0.79      0.56       100\n",
            "        clock       0.47      0.35      0.40       100\n",
            "        cloud       0.76      0.59      0.66       100\n",
            "    cockroach       0.65      0.68      0.67       100\n",
            "        couch       0.45      0.21      0.29       100\n",
            "         crab       0.60      0.35      0.44       100\n",
            "    crocodile       0.38      0.26      0.31       100\n",
            "          cup       0.50      0.71      0.59       100\n",
            "     dinosaur       0.49      0.37      0.42       100\n",
            "      dolphin       0.44      0.52      0.47       100\n",
            "     elephant       0.50      0.36      0.42       100\n",
            "     flatfish       0.34      0.52      0.41       100\n",
            "       forest       0.54      0.39      0.45       100\n",
            "          fox       0.35      0.48      0.41       100\n",
            "         girl       0.25      0.21      0.23       100\n",
            "      hamster       0.37      0.50      0.42       100\n",
            "        house       0.55      0.40      0.46       100\n",
            "     kangaroo       0.31      0.32      0.32       100\n",
            "     keyboard       0.75      0.57      0.65       100\n",
            "         lamp       0.34      0.37      0.35       100\n",
            "   lawn_mower       0.77      0.66      0.71       100\n",
            "      leopard       0.31      0.67      0.42       100\n",
            "         lion       0.28      0.66      0.40       100\n",
            "       lizard       0.25      0.13      0.17       100\n",
            "      lobster       0.50      0.37      0.43       100\n",
            "          man       0.25      0.43      0.32       100\n",
            "   maple_tree       0.60      0.37      0.46       100\n",
            "   motorcycle       0.60      0.87      0.71       100\n",
            "     mountain       0.64      0.65      0.65       100\n",
            "        mouse       0.39      0.09      0.15       100\n",
            "     mushroom       0.29      0.51      0.37       100\n",
            "     oak_tree       0.59      0.62      0.60       100\n",
            "       orange       0.76      0.69      0.72       100\n",
            "       orchid       0.56      0.70      0.62       100\n",
            "        otter       0.12      0.04      0.06       100\n",
            "    palm_tree       0.72      0.62      0.67       100\n",
            "         pear       0.60      0.48      0.53       100\n",
            " pickup_truck       0.53      0.58      0.55       100\n",
            "    pine_tree       0.36      0.57      0.44       100\n",
            "        plain       0.80      0.74      0.77       100\n",
            "        plate       0.67      0.43      0.52       100\n",
            "        poppy       0.56      0.49      0.52       100\n",
            "    porcupine       0.42      0.44      0.43       100\n",
            "       possum       0.30      0.13      0.18       100\n",
            "       rabbit       0.23      0.30      0.26       100\n",
            "      raccoon       0.37      0.35      0.36       100\n",
            "          ray       0.47      0.43      0.45       100\n",
            "         road       0.76      0.82      0.79       100\n",
            "       rocket       0.65      0.68      0.66       100\n",
            "         rose       0.56      0.66      0.61       100\n",
            "          sea       0.66      0.69      0.67       100\n",
            "         seal       0.25      0.17      0.20       100\n",
            "        shark       0.35      0.34      0.35       100\n",
            "        shrew       0.38      0.16      0.23       100\n",
            "        skunk       0.71      0.62      0.66       100\n",
            "   skyscraper       0.55      0.82      0.66       100\n",
            "        snail       0.33      0.20      0.25       100\n",
            "        snake       0.36      0.30      0.33       100\n",
            "       spider       0.50      0.46      0.48       100\n",
            "     squirrel       0.23      0.24      0.24       100\n",
            "    streetcar       0.34      0.78      0.48       100\n",
            "    sunflower       0.51      0.90      0.65       100\n",
            " sweet_pepper       0.55      0.32      0.41       100\n",
            "        table       0.46      0.33      0.38       100\n",
            "         tank       0.53      0.62      0.57       100\n",
            "    telephone       0.66      0.42      0.51       100\n",
            "   television       0.51      0.66      0.58       100\n",
            "        tiger       0.57      0.55      0.56       100\n",
            "      tractor       0.44      0.69      0.54       100\n",
            "        train       0.56      0.40      0.47       100\n",
            "        trout       0.70      0.46      0.55       100\n",
            "        tulip       0.34      0.47      0.39       100\n",
            "       turtle       0.24      0.21      0.22       100\n",
            "     wardrobe       0.59      0.86      0.70       100\n",
            "        whale       0.47      0.53      0.50       100\n",
            "  willow_tree       0.39      0.62      0.48       100\n",
            "         wolf       0.30      0.57      0.40       100\n",
            "        woman       0.32      0.14      0.19       100\n",
            "         worm       0.72      0.36      0.48       100\n",
            "\n",
            "     accuracy                           0.47     10000\n",
            "    macro avg       0.49      0.47      0.46     10000\n",
            " weighted avg       0.49      0.47      0.46     10000\n",
            "\n"
          ]
        }
      ]
    },
    {
      "cell_type": "code",
      "source": [
        "print(tt)"
      ],
      "metadata": {
        "id": "_w8Q6mEkvJx-",
        "colab": {
          "base_uri": "https://localhost:8080/"
        },
        "outputId": "6d43da89-2055-44c0-d518-4d19586428ff"
      },
      "execution_count": null,
      "outputs": [
        {
          "output_type": "stream",
          "name": "stdout",
          "text": [
            "               precision    recall  f1-score   support\n",
            "\n",
            "        apple       0.77      0.72      0.75       100\n",
            "aquarium_fish       0.71      0.37      0.49       100\n",
            "         baby       0.39      0.32      0.35       100\n",
            "         bear       0.24      0.27      0.25       100\n",
            "       beaver       0.23      0.34      0.28       100\n",
            "          bed       0.42      0.48      0.45       100\n",
            "          bee       0.52      0.59      0.55       100\n",
            "       beetle       0.43      0.47      0.45       100\n",
            "      bicycle       0.70      0.50      0.58       100\n",
            "       bottle       0.70      0.56      0.62       100\n",
            "         bowl       0.39      0.24      0.30       100\n",
            "          boy       0.38      0.25      0.30       100\n",
            "       bridge       0.68      0.30      0.42       100\n",
            "          bus       0.45      0.26      0.33       100\n",
            "    butterfly       0.41      0.40      0.40       100\n",
            "        camel       0.44      0.20      0.28       100\n",
            "          can       0.50      0.45      0.47       100\n",
            "       castle       0.68      0.67      0.67       100\n",
            "  caterpillar       0.44      0.48      0.46       100\n",
            "       cattle       0.37      0.45      0.41       100\n",
            "        chair       0.95      0.62      0.75       100\n",
            "   chimpanzee       0.43      0.79      0.56       100\n",
            "        clock       0.47      0.35      0.40       100\n",
            "        cloud       0.76      0.59      0.66       100\n",
            "    cockroach       0.65      0.68      0.67       100\n",
            "        couch       0.45      0.21      0.29       100\n",
            "         crab       0.60      0.35      0.44       100\n",
            "    crocodile       0.38      0.26      0.31       100\n",
            "          cup       0.50      0.71      0.59       100\n",
            "     dinosaur       0.49      0.37      0.42       100\n",
            "      dolphin       0.44      0.52      0.47       100\n",
            "     elephant       0.50      0.36      0.42       100\n",
            "     flatfish       0.34      0.52      0.41       100\n",
            "       forest       0.54      0.39      0.45       100\n",
            "          fox       0.35      0.48      0.41       100\n",
            "         girl       0.25      0.21      0.23       100\n",
            "      hamster       0.37      0.50      0.42       100\n",
            "        house       0.55      0.40      0.46       100\n",
            "     kangaroo       0.31      0.32      0.32       100\n",
            "     keyboard       0.75      0.57      0.65       100\n",
            "         lamp       0.34      0.37      0.35       100\n",
            "   lawn_mower       0.77      0.66      0.71       100\n",
            "      leopard       0.31      0.67      0.42       100\n",
            "         lion       0.28      0.66      0.40       100\n",
            "       lizard       0.25      0.13      0.17       100\n",
            "      lobster       0.50      0.37      0.43       100\n",
            "          man       0.25      0.43      0.32       100\n",
            "   maple_tree       0.60      0.37      0.46       100\n",
            "   motorcycle       0.60      0.87      0.71       100\n",
            "     mountain       0.64      0.65      0.65       100\n",
            "        mouse       0.39      0.09      0.15       100\n",
            "     mushroom       0.29      0.51      0.37       100\n",
            "     oak_tree       0.59      0.62      0.60       100\n",
            "       orange       0.76      0.69      0.72       100\n",
            "       orchid       0.56      0.70      0.62       100\n",
            "        otter       0.12      0.04      0.06       100\n",
            "    palm_tree       0.72      0.62      0.67       100\n",
            "         pear       0.60      0.48      0.53       100\n",
            " pickup_truck       0.53      0.58      0.55       100\n",
            "    pine_tree       0.36      0.57      0.44       100\n",
            "        plain       0.80      0.74      0.77       100\n",
            "        plate       0.67      0.43      0.52       100\n",
            "        poppy       0.56      0.49      0.52       100\n",
            "    porcupine       0.42      0.44      0.43       100\n",
            "       possum       0.30      0.13      0.18       100\n",
            "       rabbit       0.23      0.30      0.26       100\n",
            "      raccoon       0.37      0.35      0.36       100\n",
            "          ray       0.47      0.43      0.45       100\n",
            "         road       0.76      0.82      0.79       100\n",
            "       rocket       0.65      0.68      0.66       100\n",
            "         rose       0.56      0.66      0.61       100\n",
            "          sea       0.66      0.69      0.67       100\n",
            "         seal       0.25      0.17      0.20       100\n",
            "        shark       0.35      0.34      0.35       100\n",
            "        shrew       0.38      0.16      0.23       100\n",
            "        skunk       0.71      0.62      0.66       100\n",
            "   skyscraper       0.55      0.82      0.66       100\n",
            "        snail       0.33      0.20      0.25       100\n",
            "        snake       0.36      0.30      0.33       100\n",
            "       spider       0.50      0.46      0.48       100\n",
            "     squirrel       0.23      0.24      0.24       100\n",
            "    streetcar       0.34      0.78      0.48       100\n",
            "    sunflower       0.51      0.90      0.65       100\n",
            " sweet_pepper       0.55      0.32      0.41       100\n",
            "        table       0.46      0.33      0.38       100\n",
            "         tank       0.53      0.62      0.57       100\n",
            "    telephone       0.66      0.42      0.51       100\n",
            "   television       0.51      0.66      0.58       100\n",
            "        tiger       0.57      0.55      0.56       100\n",
            "      tractor       0.44      0.69      0.54       100\n",
            "        train       0.56      0.40      0.47       100\n",
            "        trout       0.70      0.46      0.55       100\n",
            "        tulip       0.34      0.47      0.39       100\n",
            "       turtle       0.24      0.21      0.22       100\n",
            "     wardrobe       0.59      0.86      0.70       100\n",
            "        whale       0.47      0.53      0.50       100\n",
            "  willow_tree       0.39      0.62      0.48       100\n",
            "         wolf       0.30      0.57      0.40       100\n",
            "        woman       0.32      0.14      0.19       100\n",
            "         worm       0.72      0.36      0.48       100\n",
            "\n",
            "     accuracy                           0.47     10000\n",
            "    macro avg       0.49      0.47      0.46     10000\n",
            " weighted avg       0.49      0.47      0.46     10000\n",
            "\n"
          ]
        }
      ]
    },
    {
      "cell_type": "code",
      "source": [],
      "metadata": {
        "id": "eKB92FhRm21f"
      },
      "execution_count": null,
      "outputs": []
    }
  ]
}