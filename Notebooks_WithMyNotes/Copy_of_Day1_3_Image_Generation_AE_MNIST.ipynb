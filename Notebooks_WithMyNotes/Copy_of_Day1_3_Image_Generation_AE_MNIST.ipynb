{
  "cells": [
    {
      "cell_type": "markdown",
      "metadata": {
        "id": "c7_WriSucaKz"
      },
      "source": [
        "![image.png](https://i.imgur.com/a3uAqnb.png)"
      ]
    },
    {
      "cell_type": "markdown",
      "metadata": {
        "id": "IKnHoVcCcaK4"
      },
      "source": [
        "# Image Generation using Autoencoder: MNIST\n",
        "- **Images**: Handwritten digits **(28x28, grayscale)**.\n",
        "- **Classes**: 10 digit classes (0-9), but for Autoencoder we **ignore labels**.\n",
        "- **Shape**: `(batch_size, 1, 28, 28)` → 1 grayscale channel.\n",
        "  \n",
        "![MNIST image](https://i.imgur.com/TQlKspY.png)\n"
      ]
    },
    {
      "cell_type": "markdown",
      "metadata": {
        "id": "7jdxgcGLcaK5"
      },
      "source": [
        "## 1️⃣ Dataset Class"
      ]
    },
    {
      "cell_type": "code",
      "metadata": {
        "execution": {
          "iopub.execute_input": "2025-02-01T17:39:05.806026Z",
          "iopub.status.busy": "2025-02-01T17:39:05.805823Z",
          "iopub.status.idle": "2025-02-01T17:39:14.847361Z",
          "shell.execute_reply": "2025-02-01T17:39:14.846371Z",
          "shell.execute_reply.started": "2025-02-01T17:39:05.806005Z"
        },
        "trusted": true,
        "ExecuteTime": {
          "end_time": "2025-02-17T08:04:12.491445Z",
          "start_time": "2025-02-17T08:04:10.068960Z"
        },
        "id": "1xbbpo1ccaK6",
        "outputId": "85369fad-653b-44ac-dfcc-5b5e9453f155"
      },
      "source": [
        "import torch\n",
        "import torchvision.transforms as transforms\n",
        "from torchvision.datasets import MNIST\n",
        "from torch.utils.data import DataLoader\n",
        "\n",
        "# Define transformations (convert to tensor)\n",
        "transform = transforms.Compose([\n",
        "    transforms.ToTensor(),  # Convert to tensor\n",
        "])\n",
        "\n",
        "# Load MNIST dataset\n",
        "train_dataset = MNIST(root=\"./datasets\", train=True, transform=transform, download=True)\n",
        "#we didn't write test_dataset because it's unsupervised learning so we don't have labels for images, MNIST data.\n",
        "\n",
        "# Create DataLoader\n",
        "batch_size = 64\n",
        "train_loader = DataLoader(train_dataset, batch_size=batch_size, shuffle=True, num_workers=2)\n",
        "#we didn't write test_dataset because it's unsupervised learning so we don't have labels for images\n",
        "\n",
        "# Check dataset size\n",
        "print(f\"Training samples: {len(train_dataset)}\")\n"
      ],
      "outputs": [
        {
          "name": "stdout",
          "output_type": "stream",
          "text": [
            "Training samples: 60000\n"
          ]
        }
      ],
      "execution_count": null
    },
    {
      "cell_type": "markdown",
      "metadata": {
        "id": "NUmGcmG4caK8"
      },
      "source": [
        "### Let's display some images"
      ]
    },
    {
      "cell_type": "code",
      "metadata": {
        "execution": {
          "iopub.execute_input": "2025-02-01T17:39:14.848883Z",
          "iopub.status.busy": "2025-02-01T17:39:14.848391Z",
          "iopub.status.idle": "2025-02-01T17:39:15.258086Z",
          "shell.execute_reply": "2025-02-01T17:39:15.256939Z",
          "shell.execute_reply.started": "2025-02-01T17:39:14.848848Z"
        },
        "trusted": true,
        "ExecuteTime": {
          "end_time": "2025-02-17T08:04:13.024381Z",
          "start_time": "2025-02-17T08:04:12.493737Z"
        },
        "id": "XBL0Wv6AcaK9",
        "outputId": "e2052f5e-6ea0-4b68-9e5e-6bd4cb97e28e"
      },
      "source": [
        "import matplotlib.pyplot as plt\n",
        "import numpy as np\n",
        "\n",
        "# Get a batch of training data\n",
        "data_iter = iter(train_loader)\n",
        "images, _ = next(data_iter)  # Labels are ignored in Autoencoder\n",
        "\n",
        "# Show images\n",
        "fig, axes = plt.subplots(2, 5, figsize=(10, 5))\n",
        "for i, ax in enumerate(axes.flat):\n",
        "    img = images[i].squeeze(0)  # Remove channel dimension (1, 28, 28) → (28, 28)\n",
        "    #we can use permute instead\n",
        "\n",
        "    ax.imshow(img.numpy(), cmap=\"gray\") #transfer it to numby then display it\n",
        "    ax.axis(\"off\")\n",
        "\n",
        "plt.show()\n",
        "\n",
        "# Show shape of one image\n",
        "print(\"Shape of one image tensor:\", images[0].shape)  # Expected: (1, 28, 28)\n"
      ],
      "outputs": [
        {
          "data": {
            "text/plain": [
              "<Figure size 1000x500 with 10 Axes>"
            ],
            "image/png": "[encoded data removed]"
          },
          "metadata": {},
          "output_type": "display_data"
        },
        {
          "name": "stdout",
          "output_type": "stream",
          "text": [
            "Shape of one image tensor: torch.Size([1, 28, 28])\n"
          ]
        }
      ],
      "execution_count": null
    },
    {
      "cell_type": "markdown",
      "metadata": {
        "id": "a6o2HKl1caK-"
      },
      "source": [
        "## 2️⃣ Model Class"
      ]
    },
    {
      "cell_type": "markdown",
      "metadata": {
        "id": "9Jfd5-zmcaK-"
      },
      "source": [
        "# **📌 Autoencoder Model**\n",
        "An **Autoencoder** is a type of neural network that learns to **compress (encode) and reconstruct (decode) input data**.\n",
        "\n",
        "## **🔹 Model Structure**\n",
        "1️⃣ **Encoder**\n",
        "   - **Conv2D Layers** → Extract important features.\n",
        "   - **Fully Connected Layer** → Reduce to a compressed **encoding vector**.\n",
        "   - Output: **Low-dimensional representation** of the input.\n",
        "\n",
        "2️⃣ **Decoder**\n",
        "   - **Fully Connected Layer** → Expands compressed representation.\n",
        "   - **Transpose Convolution Layers** → Reconstructs the input.\n",
        "   - Output: **Reconstructed image** (same shape as input).\n",
        "\n",
        "![image.png](https://i.imgur.com/SzuIOLi.png)\n",
        "---\n",
        "## **📌 Expected Input & Output Shapes**\n",
        "- **Input:** `(batch_size, 1, 28, 28)`  \n",
        "- **Encoded Representation:** `(batch_size, encoding_dim)`  \n",
        "- **Decoded Output:** `(batch_size, 1, 28, 28)`"
      ]
    },
    {
      "cell_type": "code",
      "metadata": {
        "execution": {
          "iopub.execute_input": "2025-02-01T17:44:57.609101Z",
          "iopub.status.busy": "2025-02-01T17:44:57.608800Z",
          "iopub.status.idle": "2025-02-01T17:44:57.616310Z",
          "shell.execute_reply": "2025-02-01T17:44:57.615373Z",
          "shell.execute_reply.started": "2025-02-01T17:44:57.609076Z"
        },
        "trusted": true,
        "ExecuteTime": {
          "end_time": "2025-02-17T08:04:13.043073Z",
          "start_time": "2025-02-17T08:04:13.027459Z"
        },
        "id": "rcpeNNcpcaK-"
      },
      "source": [
        "import torch.nn as nn\n",
        "\n",
        "# Define Autoencoder Model\n",
        "class CNNAutoEncoder(nn.Module):\n",
        "    def __init__(self, encoding_dim=8, dropout_rate=0.2): #encoding dimension so the image 28x28 become 8x8\n",
        "        super(CNNAutoEncoder, self).__init__()\n",
        "\n",
        "        # Encoder (Feature Extraction)\n",
        "        self.encoder = nn.Sequential( #sequential to write them together\n",
        "            nn.Conv2d(1, 16, 3, 2, 1),  # (28x28) → (14x14)\n",
        "            nn.BatchNorm2d(16),\n",
        "            nn.LeakyReLU(),#you can use ReLu\n",
        "            nn.Dropout2d(dropout_rate),#in Conv\n",
        "            nn.Conv2d(16, 32, 3, 2, 1), # (14x14) → (7x7)\n",
        "            nn.BatchNorm2d(32),\n",
        "            nn.LeakyReLU(),\n",
        "            nn.Dropout2d(dropout_rate),\n",
        "            nn.Flatten(),  # Flatten to vector\n",
        "            nn.Linear(32 * 7 * 7, encoding_dim),\n",
        "            nn.BatchNorm1d(encoding_dim),\n",
        "            nn.Tanh(), #the range [-1,1] to use in decoder by generate images in that range\n",
        "            nn.Dropout(dropout_rate)#in FC\n",
        "        )\n",
        "\n",
        "        # Decoder (Reconstruction)\n",
        "        self.decoder = nn.Sequential(\n",
        "            nn.Linear(encoding_dim, 32 * 7 * 7), #use 8x8 dimension then do transpose2d to transfer it bach to 28x28\n",
        "            nn.BatchNorm1d(32 * 7 * 7),\n",
        "            nn.LeakyReLU(),\n",
        "            nn.Dropout(dropout_rate),# dropout on FC\n",
        "            nn.Unflatten(1, (32, 7, 7)),  # Reshape back\n",
        "            nn.ConvTranspose2d(32, 16, 3, 2, 1, output_padding=1),  # (7x7) → (14x14)\n",
        "            nn.BatchNorm2d(16),\n",
        "            nn.LeakyReLU(),\n",
        "            nn.Dropout2d(dropout_rate),#Dropout2d it drop entire feature map on conv layers\n",
        "            nn.ConvTranspose2d(16, 1, 3, 2, 1, output_padding=1),  # (14x14) → (28x28), Increase the image\n",
        "            nn.Sigmoid(),  # Normalize pixel values# WHY?\n",
        "            #the tensor make the data between 0,1 so I want at the end make as this range 0,1 in float not 0,255 in integers\n",
        "        )\n",
        "\n",
        "    def forward(self, x):\n",
        "        encoder_out = self.encoder(x)\n",
        "        decoder_out = self.decoder(encoder_out)\n",
        "        return encoder_out, decoder_out"
      ],
      "outputs": [],
      "execution_count": null
    },
    {
      "cell_type": "markdown",
      "metadata": {
        "id": "tqLE_lk8caK_"
      },
      "source": [
        "## 3️⃣ Training and Validation Loops"
      ]
    },
    {
      "cell_type": "markdown",
      "metadata": {
        "id": "uXQSReJCcaK_"
      },
      "source": [
        "We will train a model and show images instantly without a validation loop.\n",
        "\n",
        "1️⃣ **Forward Pass** → Encode & Decode the image.  \n",
        "2️⃣ **Compute Loss** → Measure the difference between input & reconstructed output.  \n",
        "3️⃣ **Backward Pass** → Adjust model parameters using backpropagation.  \n"
      ]
    },
    {
      "cell_type": "code",
      "metadata": {
        "execution": {
          "iopub.execute_input": "2025-02-01T17:44:58.198288Z",
          "iopub.status.busy": "2025-02-01T17:44:58.197960Z",
          "iopub.status.idle": "2025-02-01T17:44:58.203270Z",
          "shell.execute_reply": "2025-02-01T17:44:58.202341Z",
          "shell.execute_reply.started": "2025-02-01T17:44:58.198257Z"
        },
        "trusted": true,
        "ExecuteTime": {
          "end_time": "2025-02-17T08:04:13.051038Z",
          "start_time": "2025-02-17T08:04:13.045774Z"
        },
        "id": "lQ9innYXcaLA"
      },
      "source": [
        "from tqdm import tqdm    # Shows progress bar\n",
        "\n",
        "# 🔹 Training Loop\n",
        "def train_one_epoch(model, dataloader, criterion, optimizer, device):\n",
        "    model.train()  # Set model to training mode\n",
        "    total_loss = 0\n",
        "\n",
        "    for images, _ in tqdm(dataloader):  # Ignore labels since Autoencoders don't use\n",
        "        images = images.to(device)\n",
        "\n",
        "        _, reconstructions = model(images)  # Forward pass (encoder + decoder) we need the second one Decoder not encoder\n",
        "        loss = criterion(reconstructions, images)  # Compute reconstruction loss\n",
        "\n",
        "        optimizer.zero_grad()  # Reset gradients\n",
        "        loss.backward()  # Backpropagation\n",
        "        optimizer.step()  # Update weights\n",
        "\n",
        "        total_loss += loss.item()\n",
        "\n",
        "    avg_loss = total_loss / len(dataloader)\n",
        "    return avg_loss  # No accuracy since it's not classification\n"
      ],
      "outputs": [],
      "execution_count": null
    },
    {
      "cell_type": "markdown",
      "metadata": {
        "id": "ruK6rWqDcaLA"
      },
      "source": [
        "## 4️⃣ Running Training"
      ]
    },
    {
      "cell_type": "markdown",
      "metadata": {
        "id": "Zu-n09V1caLA"
      },
      "source": [
        "Unlike classification, Autoencoders use **MSE Loss** to compare the reconstructed image with the input.\n"
      ]
    },
    {
      "cell_type": "code",
      "metadata": {
        "execution": {
          "iopub.execute_input": "2025-02-01T17:44:59.997677Z",
          "iopub.status.busy": "2025-02-01T17:44:59.997308Z",
          "iopub.status.idle": "2025-02-01T17:47:00.080321Z",
          "shell.execute_reply": "2025-02-01T17:47:00.079299Z",
          "shell.execute_reply.started": "2025-02-01T17:44:59.997645Z"
        },
        "trusted": true,
        "ExecuteTime": {
          "end_time": "2025-02-17T08:06:26.678382Z",
          "start_time": "2025-02-17T08:04:13.052958Z"
        },
        "id": "sLt778fDcaLB",
        "outputId": "d0c94803-ae61-4849-b270-788da0b04c29"
      },
      "source": [
        "import torch.optim as optim\n",
        "\n",
        "\n",
        "# Initialize the model\n",
        "device = torch.device(\"cuda\" if torch.cuda.is_available() else \"cpu\")\n",
        "model = CNNAutoEncoder(encoding_dim=8).to(device)\n",
        "\n",
        "# Print model summary\n",
        "print(model)\n",
        "\n",
        "# Define loss function and optimizer\n",
        "criterion = nn.MSELoss()  # Measure reconstruction quality\n",
        "optimizer = optim.AdamW(model.parameters(), lr=1e-4)  # AdamW optimizer or Adam it's fine\n",
        "num_epochs = 20 # Number of epochs\n",
        "\n",
        "# Store losses for plotting\n",
        "train_losses = []\n",
        "\n",
        "# Training loop\n",
        "for epoch in range(num_epochs):\n",
        "    train_loss = train_one_epoch(model, train_loader, criterion, optimizer, device)\n",
        "    train_losses.append(train_loss)\n",
        "\n",
        "    print(f\"Epoch {epoch+1}/{num_epochs}, Loss = {train_loss:.4f}\")"
      ],
      "outputs": [
        {
          "name": "stdout",
          "output_type": "stream",
          "text": [
            "CNNAutoEncoder(\n",
            "  (encoder): Sequential(\n",
            "    (0): Conv2d(1, 16, kernel_size=(3, 3), stride=(2, 2), padding=(1, 1))\n",
            "    (1): BatchNorm2d(16, eps=1e-05, momentum=0.1, affine=True, track_running_stats=True)\n",
            "    (2): LeakyReLU(negative_slope=0.01)\n",
            "    (3): Dropout2d(p=0.2, inplace=False)\n",
            "    (4): Conv2d(16, 32, kernel_size=(3, 3), stride=(2, 2), padding=(1, 1))\n",
            "    (5): BatchNorm2d(32, eps=1e-05, momentum=0.1, affine=True, track_running_stats=True)\n",
            "    (6): LeakyReLU(negative_slope=0.01)\n",
            "    (7): Dropout2d(p=0.2, inplace=False)\n",
            "    (8): Flatten(start_dim=1, end_dim=-1)\n",
            "    (9): Linear(in_features=1568, out_features=8, bias=True)\n",
            "    (10): BatchNorm1d(8, eps=1e-05, momentum=0.1, affine=True, track_running_stats=True)\n",
            "    (11): Tanh()\n",
            "    (12): Dropout(p=0.2, inplace=False)\n",
            "  )\n",
            "  (decoder): Sequential(\n",
            "    (0): Linear(in_features=8, out_features=1568, bias=True)\n",
            "    (1): BatchNorm1d(1568, eps=1e-05, momentum=0.1, affine=True, track_running_stats=True)\n",
            "    (2): LeakyReLU(negative_slope=0.01)\n",
            "    (3): Dropout(p=0.2, inplace=False)\n",
            "    (4): Unflatten(dim=1, unflattened_size=(32, 7, 7))\n",
            "    (5): ConvTranspose2d(32, 16, kernel_size=(3, 3), stride=(2, 2), padding=(1, 1), output_padding=(1, 1))\n",
            "    (6): BatchNorm2d(16, eps=1e-05, momentum=0.1, affine=True, track_running_stats=True)\n",
            "    (7): LeakyReLU(negative_slope=0.01)\n",
            "    (8): Dropout2d(p=0.2, inplace=False)\n",
            "    (9): ConvTranspose2d(16, 1, kernel_size=(3, 3), stride=(2, 2), padding=(1, 1), output_padding=(1, 1))\n",
            "    (10): Sigmoid()\n",
            "  )\n",
            ")\n"
          ]
        },
        {
          "name": "stderr",
          "output_type": "stream",
          "text": [
            "100%|██████████| 938/938 [00:07<00:00, 119.43it/s]\n"
          ]
        },
        {
          "name": "stdout",
          "output_type": "stream",
          "text": [
            "Epoch 1/20, Loss = 0.1409\n"
          ]
        },
        {
          "name": "stderr",
          "output_type": "stream",
          "text": [
            "100%|██████████| 938/938 [00:06<00:00, 134.90it/s]\n"
          ]
        },
        {
          "name": "stdout",
          "output_type": "stream",
          "text": [
            "Epoch 2/20, Loss = 0.0697\n"
          ]
        },
        {
          "name": "stderr",
          "output_type": "stream",
          "text": [
            "100%|██████████| 938/938 [00:06<00:00, 138.22it/s]\n"
          ]
        },
        {
          "name": "stdout",
          "output_type": "stream",
          "text": [
            "Epoch 3/20, Loss = 0.0551\n"
          ]
        },
        {
          "name": "stderr",
          "output_type": "stream",
          "text": [
            "100%|██████████| 938/938 [00:06<00:00, 136.27it/s]\n"
          ]
        },
        {
          "name": "stdout",
          "output_type": "stream",
          "text": [
            "Epoch 4/20, Loss = 0.0499\n"
          ]
        },
        {
          "name": "stderr",
          "output_type": "stream",
          "text": [
            "100%|██████████| 938/938 [00:06<00:00, 140.95it/s]\n"
          ]
        },
        {
          "name": "stdout",
          "output_type": "stream",
          "text": [
            "Epoch 5/20, Loss = 0.0474\n"
          ]
        },
        {
          "name": "stderr",
          "output_type": "stream",
          "text": [
            "100%|██████████| 938/938 [00:06<00:00, 141.28it/s]\n"
          ]
        },
        {
          "name": "stdout",
          "output_type": "stream",
          "text": [
            "Epoch 6/20, Loss = 0.0460\n"
          ]
        },
        {
          "name": "stderr",
          "output_type": "stream",
          "text": [
            "100%|██████████| 938/938 [00:07<00:00, 133.54it/s]\n"
          ]
        },
        {
          "name": "stdout",
          "output_type": "stream",
          "text": [
            "Epoch 7/20, Loss = 0.0449\n"
          ]
        },
        {
          "name": "stderr",
          "output_type": "stream",
          "text": [
            "100%|██████████| 938/938 [00:06<00:00, 134.15it/s]\n"
          ]
        },
        {
          "name": "stdout",
          "output_type": "stream",
          "text": [
            "Epoch 8/20, Loss = 0.0440\n"
          ]
        },
        {
          "name": "stderr",
          "output_type": "stream",
          "text": [
            "100%|██████████| 938/938 [00:06<00:00, 138.94it/s]\n"
          ]
        },
        {
          "name": "stdout",
          "output_type": "stream",
          "text": [
            "Epoch 9/20, Loss = 0.0434\n"
          ]
        },
        {
          "name": "stderr",
          "output_type": "stream",
          "text": [
            "100%|██████████| 938/938 [00:07<00:00, 133.16it/s]\n"
          ]
        },
        {
          "name": "stdout",
          "output_type": "stream",
          "text": [
            "Epoch 10/20, Loss = 0.0428\n"
          ]
        },
        {
          "name": "stderr",
          "output_type": "stream",
          "text": [
            "100%|██████████| 938/938 [00:06<00:00, 137.38it/s]\n"
          ]
        },
        {
          "name": "stdout",
          "output_type": "stream",
          "text": [
            "Epoch 11/20, Loss = 0.0422\n"
          ]
        },
        {
          "name": "stderr",
          "output_type": "stream",
          "text": [
            "100%|██████████| 938/938 [00:06<00:00, 135.33it/s]\n"
          ]
        },
        {
          "name": "stdout",
          "output_type": "stream",
          "text": [
            "Epoch 12/20, Loss = 0.0419\n"
          ]
        },
        {
          "name": "stderr",
          "output_type": "stream",
          "text": [
            "100%|██████████| 938/938 [00:06<00:00, 138.06it/s]\n"
          ]
        },
        {
          "name": "stdout",
          "output_type": "stream",
          "text": [
            "Epoch 13/20, Loss = 0.0416\n"
          ]
        },
        {
          "name": "stderr",
          "output_type": "stream",
          "text": [
            "100%|██████████| 938/938 [00:06<00:00, 136.45it/s]\n"
          ]
        },
        {
          "name": "stdout",
          "output_type": "stream",
          "text": [
            "Epoch 14/20, Loss = 0.0413\n"
          ]
        },
        {
          "name": "stderr",
          "output_type": "stream",
          "text": [
            "100%|██████████| 938/938 [00:06<00:00, 136.95it/s]\n"
          ]
        },
        {
          "name": "stdout",
          "output_type": "stream",
          "text": [
            "Epoch 15/20, Loss = 0.0410\n"
          ]
        },
        {
          "name": "stderr",
          "output_type": "stream",
          "text": [
            "100%|██████████| 938/938 [00:07<00:00, 127.99it/s]\n"
          ]
        },
        {
          "name": "stdout",
          "output_type": "stream",
          "text": [
            "Epoch 16/20, Loss = 0.0407\n"
          ]
        },
        {
          "name": "stderr",
          "output_type": "stream",
          "text": [
            "100%|██████████| 938/938 [00:06<00:00, 139.13it/s]\n"
          ]
        },
        {
          "name": "stdout",
          "output_type": "stream",
          "text": [
            "Epoch 17/20, Loss = 0.0406\n"
          ]
        },
        {
          "name": "stderr",
          "output_type": "stream",
          "text": [
            "100%|██████████| 938/938 [00:05<00:00, 173.43it/s]\n"
          ]
        },
        {
          "name": "stdout",
          "output_type": "stream",
          "text": [
            "Epoch 18/20, Loss = 0.0405\n"
          ]
        },
        {
          "name": "stderr",
          "output_type": "stream",
          "text": [
            "100%|██████████| 938/938 [00:04<00:00, 201.65it/s]\n"
          ]
        },
        {
          "name": "stdout",
          "output_type": "stream",
          "text": [
            "Epoch 19/20, Loss = 0.0403\n"
          ]
        },
        {
          "name": "stderr",
          "output_type": "stream",
          "text": [
            "100%|██████████| 938/938 [00:04<00:00, 188.26it/s]"
          ]
        },
        {
          "name": "stdout",
          "output_type": "stream",
          "text": [
            "Epoch 20/20, Loss = 0.0402\n"
          ]
        },
        {
          "name": "stderr",
          "output_type": "stream",
          "text": [
            "\n"
          ]
        }
      ],
      "execution_count": null
    },
    {
      "cell_type": "markdown",
      "metadata": {
        "id": "aLls62zNcaLC"
      },
      "source": [
        "### Plot loss and some predictions"
      ]
    },
    {
      "cell_type": "code",
      "metadata": {
        "execution": {
          "iopub.execute_input": "2025-02-01T17:47:03.405140Z",
          "iopub.status.busy": "2025-02-01T17:47:03.404838Z",
          "iopub.status.idle": "2025-02-01T17:47:03.580171Z",
          "shell.execute_reply": "2025-02-01T17:47:03.579287Z",
          "shell.execute_reply.started": "2025-02-01T17:47:03.405115Z"
        },
        "trusted": true,
        "ExecuteTime": {
          "end_time": "2025-02-17T08:06:26.806130Z",
          "start_time": "2025-02-17T08:06:26.680233Z"
        },
        "id": "8Bi8Z947caLC",
        "outputId": "342bc0ea-3153-459f-b0ab-b385cbe52633"
      },
      "source": [
        "import matplotlib.pyplot as plt\n",
        "\n",
        "# Plot loss curve\n",
        "plt.figure(figsize=(12, 5))\n",
        "plt.subplot(1, 2, 1)\n",
        "plt.plot(range(1, num_epochs+1), train_losses, label=\"Train Loss\", marker='o')\n",
        "plt.xlabel(\"Epochs\")\n",
        "plt.ylabel(\"Loss\")\n",
        "plt.title(\"Loss Curve\")\n",
        "plt.legend()\n",
        "\n",
        "plt.show()"
      ],
      "outputs": [
        {
          "data": {
            "text/plain": [
              "<Figure size 1200x500 with 1 Axes>"
            ],
            "image/png": "[encoded data removed]"
          },
          "metadata": {},
          "output_type": "display_data"
        }
      ],
      "execution_count": null
    },
    {
      "cell_type": "code",
      "metadata": {
        "execution": {
          "iopub.execute_input": "2025-02-01T17:52:19.026064Z",
          "iopub.status.busy": "2025-02-01T17:52:19.025710Z",
          "iopub.status.idle": "2025-02-01T17:52:19.629569Z",
          "shell.execute_reply": "2025-02-01T17:52:19.628795Z",
          "shell.execute_reply.started": "2025-02-01T17:52:19.026029Z"
        },
        "trusted": true,
        "ExecuteTime": {
          "end_time": "2025-02-17T08:06:27.339229Z",
          "start_time": "2025-02-17T08:06:26.807861Z"
        },
        "id": "oWKWJH22caLC",
        "outputId": "2c8a3410-e039-4482-ef87-3bb6a1849244"
      },
      "source": [
        "import matplotlib.pyplot as plt\n",
        "\n",
        "# 🔹 Function to Display Original vs. Reconstructed Images\n",
        "def show_original_vs_reconstructed(model, dataloader, device, num_images=10):\n",
        "    model.eval()  # Set to evaluation mode\n",
        "\n",
        "    # Get a batch of images\n",
        "    images, _ = next(iter(dataloader))\n",
        "    images = images[:num_images].to(device)  # Select 'num_images' samples\n",
        "\n",
        "    # Get reconstructed images\n",
        "    with torch.no_grad():\n",
        "        _, reconstructions = model(images)\n",
        "    reconstructions = reconstructions.cpu()\n",
        "\n",
        "    # Plot original vs reconstructed images\n",
        "    fig, axes = plt.subplots(2, num_images, figsize=(num_images * 2, 4))\n",
        "\n",
        "    for i in range(num_images):\n",
        "        # Original images (Top row)\n",
        "        axes[0, i].imshow(images[i].cpu().squeeze(), cmap=\"gray\")\n",
        "        axes[0, i].axis(\"off\")\n",
        "\n",
        "        # Reconstructed images (Bottom row)\n",
        "        axes[1, i].imshow(reconstructions[i].squeeze(), cmap=\"gray\")\n",
        "        axes[1, i].axis(\"off\")\n",
        "\n",
        "    axes[0, 0].set_title(\"Original Images\", fontsize=12)\n",
        "    axes[1, 0].set_title(\"Reconstructed Images\", fontsize=12)\n",
        "    plt.show()\n",
        "\n",
        "# 🔹 Display Results\n",
        "show_original_vs_reconstructed(model, train_loader, device)\n"
      ],
      "outputs": [
        {
          "data": {
            "text/plain": [
              "<Figure size 2000x400 with 20 Axes>"
            ],
            "image/png": "[encoded data removed]"
          },
          "metadata": {},
          "output_type": "display_data"
        }
      ],
      "execution_count": null
    },
    {
      "cell_type": "markdown",
      "metadata": {
        "id": "5FEIjZmNcaLD"
      },
      "source": [
        "Let's generate some images:"
      ]
    },
    {
      "cell_type": "code",
      "metadata": {
        "execution": {
          "iopub.execute_input": "2025-02-01T17:47:21.282080Z",
          "iopub.status.busy": "2025-02-01T17:47:21.281787Z",
          "iopub.status.idle": "2025-02-01T17:47:21.510734Z",
          "shell.execute_reply": "2025-02-01T17:47:21.509850Z",
          "shell.execute_reply.started": "2025-02-01T17:47:21.282058Z"
        },
        "trusted": true,
        "ExecuteTime": {
          "end_time": "2025-02-17T08:06:27.430213Z",
          "start_time": "2025-02-17T08:06:27.340733Z"
        },
        "id": "MeMyt6xpcaLD",
        "outputId": "f46177ce-309d-461b-a396-e97251e15f94"
      },
      "source": [
        "import matplotlib.pyplot as plt\n",
        "\n",
        "# 🔹 Function to Generate Images\n",
        "def generate_images(model, num_images=10, encoding_dim=8):\n",
        "    model.eval()  # Set to evaluation mode\n",
        "\n",
        "    # Generate random encodings from a uniform distribution in [-1,1]\n",
        "    random_encodings = (torch.rand(num_images, encoding_dim).to(device) - 0.5) * 2#[-1,1] we used Tanh, and 8 numbers fromencoding dimension , then 10 images\n",
        "\n",
        "    # Pass through decoder to generate images\n",
        "    with torch.no_grad():\n",
        "        generated_images = model.decoder(random_encodings).cpu()\n",
        "\n",
        "    # Reshape images\n",
        "    generated_images = generated_images.view(-1, 28, 28)  # Convert to 2D shape\n",
        "\n",
        "    # Plot generated images\n",
        "    fig, axes = plt.subplots(1, num_images, figsize=(num_images * 2, 2))\n",
        "    for i, ax in enumerate(axes.flat):\n",
        "        ax.imshow(generated_images[i], cmap=\"gray\")\n",
        "        ax.axis(\"off\")\n",
        "\n",
        "    plt.suptitle(\"Generated Images from Random Encodings\", fontsize=14)\n",
        "    plt.show()\n",
        "\n",
        "# 🔹 Generate & Display Images\n",
        "generate_images(model, num_images=10, encoding_dim=8)\n"
      ],
      "outputs": [
        {
          "data": {
            "text/plain": [
              "<Figure size 2000x200 with 10 Axes>"
            ],
            "image/png": "[encoded data removed]"
          },
          "metadata": {},
          "output_type": "display_data"
        }
      ],
      "execution_count": null
    },
    {
      "cell_type": "markdown",
      "metadata": {
        "id": "hH39nqbicaLD"
      },
      "source": [
        "Close Enough :)"
      ]
    },
    {
      "cell_type": "markdown",
      "metadata": {
        "id": "rEdABumtcaLE"
      },
      "source": [
        "## **🔹 Exercise: Effect of Encoding Dimension on Reconstruction**\n",
        "The **encoding dimension** controls how much information is compressed in the latent space.\n",
        "\n",
        "### **📝 Task**\n",
        "- Try running the model with **different `encoding_dim` values** (e.g., `1, 2, 128, 256`).\n",
        "- Observe how the quality of the **reconstructed images** changes."
      ]
    },
    {
      "cell_type": "markdown",
      "metadata": {
        "id": "PQlJXQKXcaLE"
      },
      "source": [
        "### Contributed by: Mohamed Eltayeb"
      ]
    }
  ],
  "metadata": {
    "accelerator": "GPU",
    "colab": {
      "gpuType": "T4",
      "provenance": []
    },
    "kaggle": {
      "accelerator": "gpu",
      "dataSources": [],
      "dockerImageVersionId": 30839,
      "isGpuEnabled": true,
      "isInternetEnabled": true,
      "language": "python",
      "sourceType": "notebook"
    },
    "kernelspec": {
      "display_name": "Python 3",
      "language": "python",
      "name": "python3"
    },
    "language_info": {
      "codemirror_mode": {
        "name": "ipython",
        "version": 3
      },
      "file_extension": ".py",
      "mimetype": "text/x-python",
      "name": "python",
      "nbconvert_exporter": "python",
      "pygments_lexer": "ipython3",
      "version": "3.10.12"
    }
  },
  "nbformat": 4,
  "nbformat_minor": 0
}